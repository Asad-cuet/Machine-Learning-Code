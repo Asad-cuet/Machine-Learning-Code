{
 "cells": [
  {
   "cell_type": "markdown",
   "metadata": {},
   "source": [
    "# All defined function"
   ]
  },
  {
   "cell_type": "markdown",
   "metadata": {},
   "source": [
    "### Collect course details"
   ]
  },
  {
   "cell_type": "code",
   "execution_count": 1,
   "metadata": {},
   "outputs": [],
   "source": [
    "def getCourseDetails(data):\n",
    "    import pandas as pd\n",
    "    \n",
    "    #course details\n",
    "    course_title=data.columns[1]\n",
    "    course_code=data[course_title][0]\n",
    "    course_credit=data[course_title][1]\n",
    "    \n",
    "    #just taking class\n",
    "    just_class_values=list(data.loc[2])[1:]\n",
    "    \n",
    "    #removing above course details\n",
    "    attendance=data.loc[3:].copy()\n",
    "    \n",
    "    #taking only student id\n",
    "    just_id_values=attendance['Course Title'].values\n",
    "    \n",
    "    #taking just attendace values\n",
    "    just_attendance_values=attendance.loc[:, attendance.columns != 'Course Title'].values\n",
    "    \n",
    "    # Create data frame of id index, class column, attandance data\n",
    "    index=just_id_values\n",
    "    columns=just_class_values\n",
    "    data_set =  just_attendance_values\n",
    "\n",
    "    # Creates pandas DataFrame.\n",
    "    dataframe = pd.DataFrame(data_set,index,columns)\n",
    "    \n",
    "    #reurn all these thing\n",
    "    return {\n",
    "        'Course_Title':course_title,\n",
    "        'Course_Code':course_code,\n",
    "        'Credit':course_credit,\n",
    "        'Total_Class':len(dataframe.columns),\n",
    "        'attendance_frame':dataframe\n",
    "    }"
   ]
  },
  {
   "cell_type": "markdown",
   "metadata": {},
   "source": [
    "### Create new semester dataframe"
   ]
  },
  {
   "cell_type": "markdown",
   "metadata": {},
   "source": [
    "To store only about course information"
   ]
  },
  {
   "cell_type": "code",
   "execution_count": 2,
   "metadata": {},
   "outputs": [],
   "source": [
    "def createSemester():\n",
    "    import pandas as pd\n",
    "    _columns=['Cource_Title','Cource_Code','Credit','Total_Class']\n",
    "    semester_dataframe=pd.DataFrame(columns=_columns)\n",
    "    return semester_dataframe"
   ]
  },
  {
   "cell_type": "markdown",
   "metadata": {},
   "source": [
    "### Insert the data in  new semester dataframe"
   ]
  },
  {
   "cell_type": "markdown",
   "metadata": {},
   "source": [
    "Filling course information by appending row in new semester dataframe"
   ]
  },
  {
   "cell_type": "code",
   "execution_count": 3,
   "metadata": {},
   "outputs": [],
   "source": [
    "def insertToSemester(details):\n",
    "    global new_semester\n",
    "    # Creating the new row \n",
    "    data = [                \n",
    "            {'Cource_Title': details['Course_Title'],\n",
    "             'Cource_Code': details['Course_Code'],\n",
    "             'Credit': details['Credit'],\n",
    "             'Total_Class': details['Total_Class']\n",
    "            }\n",
    "           ]  \n",
    "    new_row = pd.DataFrame(data)\n",
    "    \n",
    "    # for appending new_row at the end of semester_dataframe\n",
    "    new_semester = new_semester.append(new_row, ignore_index = True) "
   ]
  },
  {
   "cell_type": "markdown",
   "metadata": {},
   "source": [
    "### Get course details and attendance sheet & save to the sheet & storing to semester"
   ]
  },
  {
   "cell_type": "markdown",
   "metadata": {},
   "source": [
    "Above function is using inside this function"
   ]
  },
  {
   "cell_type": "code",
   "execution_count": 4,
   "metadata": {},
   "outputs": [],
   "source": [
    "def mergeUploadedFile(all_uploaded_data):\n",
    "    for uploaded_data in all_uploaded_data:\n",
    "        \n",
    "        #getting course information and attendance sheet\n",
    "        details=getCourseDetails(uploaded_data)\n",
    "        \n",
    "        #saving the attendance sheet as csv file\n",
    "        details['attendance_frame'].to_csv(\"merged file/\"+details['Course_Code']+\".csv\")\n",
    "        \n",
    "        #inserting course information new semester dataframe\n",
    "        insertToSemester(details)"
   ]
  },
  {
   "cell_type": "markdown",
   "metadata": {},
   "source": [
    "### Create new student attendance"
   ]
  },
  {
   "cell_type": "markdown",
   "metadata": {},
   "source": [
    "To store only a  specific student's information"
   ]
  },
  {
   "cell_type": "code",
   "execution_count": 5,
   "metadata": {},
   "outputs": [],
   "source": [
    "def newStudentAttendance():\n",
    "    columns=['Course Title','Course Code','Total Class','Present','Absent']\n",
    "\n",
    "    new_student_attendace = pd.DataFrame(columns=columns)\n",
    "\n",
    "    return new_student_attendace"
   ]
  },
  {
   "cell_type": "markdown",
   "metadata": {},
   "source": [
    "### Calculate attendance & save to new student attendance"
   ]
  },
  {
   "cell_type": "code",
   "execution_count": 6,
   "metadata": {},
   "outputs": [],
   "source": [
    "def getAttendance(student_id):\n",
    "    import pandas as pd\n",
    "    \n",
    "    #reading new semester dataframe which is saved as csv file\n",
    "    new_semester=pd.read_csv(\"merged file/new_semester.csv\")\n",
    "    \n",
    "    #taking all course cose as list\n",
    "    cource_code=list(new_semester['Cource_Code'])\n",
    "    \n",
    "    #create new attendance dataframe\n",
    "    new_student_attendace=newStudentAttendance()\n",
    "\n",
    "    for code in cource_code:\n",
    "        \n",
    "        #taking attendance dataframe of this coutce code\n",
    "        cource_item_df=pd.read_csv(\"merged file/\"+code+\".csv\",index_col=0)\n",
    "\n",
    "        #calculating total class, present, absent\n",
    "        total_class=len(cource_item_df.columns)\n",
    "        present=list(cource_item_df.loc[student_id].values).count('P')  \n",
    "        absent=total_class-present\n",
    "\n",
    "        #taking course title and credit\n",
    "        course_title=new_semester[new_semester.Cource_Code==code]['Cource_Title'].values[0]\n",
    "        credit=new_semester[new_semester.Cource_Code==code]['Credit'].values[0]\n",
    "\n",
    "        #creating new row of above data\n",
    "        row_data = [              \n",
    "                {'Course Title': course_title,'Course Code': code,'Total Class': total_class,'Present': present,'Absent':absent}\n",
    "               ]  \n",
    "        new_row = pd.DataFrame(row_data)\n",
    "\n",
    "        #appending in new_student_attendace\n",
    "        new_student_attendace = new_student_attendace.append(new_row, ignore_index = True)\n",
    "    \n",
    "    return new_student_attendace"
   ]
  },
  {
   "cell_type": "markdown",
   "metadata": {},
   "source": [
    "# Taking file from user as input"
   ]
  },
  {
   "cell_type": "markdown",
   "metadata": {},
   "source": [
    "### Importing uploaded file"
   ]
  },
  {
   "cell_type": "code",
   "execution_count": 7,
   "metadata": {
    "scrolled": false
   },
   "outputs": [],
   "source": [
    "import pandas as pd\n",
    "data_frame_1=pd.read_excel('uploaded file/BME221.xlsx')\n",
    "data_frame_2=pd.read_excel('uploaded file/BME223.xlsx')\n",
    "data_frame_3=pd.read_excel('uploaded file/BME225.xlsx')\n",
    "data_frame_4=pd.read_excel('uploaded file/EEE227.xlsx')\n",
    "data_frame_5=pd.read_excel('uploaded file/EEE228.xlsx')\n",
    "data_frame_6=pd.read_excel('uploaded file/BME222.xlsx')\n",
    "data_frame_7=pd.read_excel('uploaded file/BME226.xlsx')\n",
    "data_frame_8=pd.read_excel('uploaded file/CSE224.xlsx')"
   ]
  },
  {
   "cell_type": "code",
   "execution_count": 8,
   "metadata": {},
   "outputs": [],
   "source": [
    "all_uploaded_data=[data_frame_1,data_frame_2,data_frame_3,data_frame_4,data_frame_5,data_frame_6,data_frame_7,data_frame_8]"
   ]
  },
  {
   "cell_type": "markdown",
   "metadata": {},
   "source": [
    "# Maerging uploaded file"
   ]
  },
  {
   "cell_type": "markdown",
   "metadata": {},
   "source": [
    " ### Creating new semester"
   ]
  },
  {
   "cell_type": "code",
   "execution_count": 17,
   "metadata": {},
   "outputs": [],
   "source": [
    "new_semester=createSemester()\n"
   ]
  },
  {
   "cell_type": "markdown",
   "metadata": {},
   "source": [
    "### Merging"
   ]
  },
  {
   "cell_type": "code",
   "execution_count": 10,
   "metadata": {},
   "outputs": [],
   "source": [
    "mergeUploadedFile(all_uploaded_data)"
   ]
  },
  {
   "cell_type": "markdown",
   "metadata": {},
   "source": [
    "### final of semester dataframe"
   ]
  },
  {
   "cell_type": "code",
   "execution_count": 11,
   "metadata": {},
   "outputs": [
    {
     "data": {
      "text/html": [
       "<div>\n",
       "<style scoped>\n",
       "    .dataframe tbody tr th:only-of-type {\n",
       "        vertical-align: middle;\n",
       "    }\n",
       "\n",
       "    .dataframe tbody tr th {\n",
       "        vertical-align: top;\n",
       "    }\n",
       "\n",
       "    .dataframe thead th {\n",
       "        text-align: right;\n",
       "    }\n",
       "</style>\n",
       "<table border=\"1\" class=\"dataframe\">\n",
       "  <thead>\n",
       "    <tr style=\"text-align: right;\">\n",
       "      <th></th>\n",
       "      <th>Cource_Title</th>\n",
       "      <th>Cource_Code</th>\n",
       "      <th>Credit</th>\n",
       "      <th>Total_Class</th>\n",
       "    </tr>\n",
       "  </thead>\n",
       "  <tbody>\n",
       "    <tr>\n",
       "      <th>0</th>\n",
       "      <td>Biomaterials</td>\n",
       "      <td>BME221</td>\n",
       "      <td>3</td>\n",
       "      <td>12</td>\n",
       "    </tr>\n",
       "    <tr>\n",
       "      <th>1</th>\n",
       "      <td>Cell Biology</td>\n",
       "      <td>BME223</td>\n",
       "      <td>3</td>\n",
       "      <td>12</td>\n",
       "    </tr>\n",
       "    <tr>\n",
       "      <th>2</th>\n",
       "      <td>Biomedical Signal and System</td>\n",
       "      <td>BME225</td>\n",
       "      <td>3</td>\n",
       "      <td>12</td>\n",
       "    </tr>\n",
       "    <tr>\n",
       "      <th>3</th>\n",
       "      <td>Digital Logic Design</td>\n",
       "      <td>EEE 227</td>\n",
       "      <td>3</td>\n",
       "      <td>12</td>\n",
       "    </tr>\n",
       "    <tr>\n",
       "      <th>4</th>\n",
       "      <td>Digital Logic Design Sessional</td>\n",
       "      <td>EEE228</td>\n",
       "      <td>3</td>\n",
       "      <td>12</td>\n",
       "    </tr>\n",
       "    <tr>\n",
       "      <th>5</th>\n",
       "      <td>Biomaterial Sessional</td>\n",
       "      <td>BME222</td>\n",
       "      <td>3</td>\n",
       "      <td>12</td>\n",
       "    </tr>\n",
       "    <tr>\n",
       "      <th>6</th>\n",
       "      <td>Biomedical Signal And System Sessional</td>\n",
       "      <td>BME226</td>\n",
       "      <td>3</td>\n",
       "      <td>12</td>\n",
       "    </tr>\n",
       "    <tr>\n",
       "      <th>7</th>\n",
       "      <td>Object Oriented Programming Sessional</td>\n",
       "      <td>CSE 224</td>\n",
       "      <td>3</td>\n",
       "      <td>12</td>\n",
       "    </tr>\n",
       "  </tbody>\n",
       "</table>\n",
       "</div>"
      ],
      "text/plain": [
       "                             Cource_Title Cource_Code Credit Total_Class\n",
       "0                            Biomaterials      BME221      3          12\n",
       "1                            Cell Biology      BME223      3          12\n",
       "2            Biomedical Signal and System      BME225      3          12\n",
       "3                    Digital Logic Design     EEE 227      3          12\n",
       "4          Digital Logic Design Sessional      EEE228      3          12\n",
       "5                   Biomaterial Sessional      BME222      3          12\n",
       "6  Biomedical Signal And System Sessional      BME226      3          12\n",
       "7   Object Oriented Programming Sessional     CSE 224      3          12"
      ]
     },
     "execution_count": 11,
     "metadata": {},
     "output_type": "execute_result"
    }
   ],
   "source": [
    "new_semester"
   ]
  },
  {
   "cell_type": "markdown",
   "metadata": {},
   "source": [
    "### Saving semester dataframe"
   ]
  },
  {
   "cell_type": "code",
   "execution_count": 12,
   "metadata": {},
   "outputs": [],
   "source": [
    "new_semester.to_csv(\"merged file/new_semester.csv\",index=False)"
   ]
  },
  {
   "cell_type": "markdown",
   "metadata": {},
   "source": [
    "# Finding of a student's attendance"
   ]
  },
  {
   "cell_type": "markdown",
   "metadata": {},
   "source": [
    "### Taking student_id as input"
   ]
  },
  {
   "cell_type": "code",
   "execution_count": 13,
   "metadata": {},
   "outputs": [],
   "source": [
    "student_id=1911022"
   ]
  },
  {
   "cell_type": "markdown",
   "metadata": {},
   "source": [
    "### Calculating"
   ]
  },
  {
   "cell_type": "code",
   "execution_count": 14,
   "metadata": {},
   "outputs": [],
   "source": [
    "attendance=getAttendance(student_id)"
   ]
  },
  {
   "cell_type": "markdown",
   "metadata": {},
   "source": [
    "### Final attendance"
   ]
  },
  {
   "cell_type": "code",
   "execution_count": 15,
   "metadata": {},
   "outputs": [
    {
     "data": {
      "text/html": [
       "<div>\n",
       "<style scoped>\n",
       "    .dataframe tbody tr th:only-of-type {\n",
       "        vertical-align: middle;\n",
       "    }\n",
       "\n",
       "    .dataframe tbody tr th {\n",
       "        vertical-align: top;\n",
       "    }\n",
       "\n",
       "    .dataframe thead th {\n",
       "        text-align: right;\n",
       "    }\n",
       "</style>\n",
       "<table border=\"1\" class=\"dataframe\">\n",
       "  <thead>\n",
       "    <tr style=\"text-align: right;\">\n",
       "      <th></th>\n",
       "      <th>Course Title</th>\n",
       "      <th>Course Code</th>\n",
       "      <th>Total Class</th>\n",
       "      <th>Present</th>\n",
       "      <th>Absent</th>\n",
       "    </tr>\n",
       "  </thead>\n",
       "  <tbody>\n",
       "    <tr>\n",
       "      <th>0</th>\n",
       "      <td>Biomaterials</td>\n",
       "      <td>BME221</td>\n",
       "      <td>12</td>\n",
       "      <td>9</td>\n",
       "      <td>3</td>\n",
       "    </tr>\n",
       "    <tr>\n",
       "      <th>1</th>\n",
       "      <td>Cell Biology</td>\n",
       "      <td>BME223</td>\n",
       "      <td>12</td>\n",
       "      <td>9</td>\n",
       "      <td>3</td>\n",
       "    </tr>\n",
       "    <tr>\n",
       "      <th>2</th>\n",
       "      <td>Biomedical Signal and System</td>\n",
       "      <td>BME225</td>\n",
       "      <td>12</td>\n",
       "      <td>9</td>\n",
       "      <td>3</td>\n",
       "    </tr>\n",
       "    <tr>\n",
       "      <th>3</th>\n",
       "      <td>Digital Logic Design</td>\n",
       "      <td>EEE 227</td>\n",
       "      <td>12</td>\n",
       "      <td>9</td>\n",
       "      <td>3</td>\n",
       "    </tr>\n",
       "    <tr>\n",
       "      <th>4</th>\n",
       "      <td>Digital Logic Design Sessional</td>\n",
       "      <td>EEE228</td>\n",
       "      <td>12</td>\n",
       "      <td>9</td>\n",
       "      <td>3</td>\n",
       "    </tr>\n",
       "    <tr>\n",
       "      <th>5</th>\n",
       "      <td>Biomaterial Sessional</td>\n",
       "      <td>BME222</td>\n",
       "      <td>12</td>\n",
       "      <td>9</td>\n",
       "      <td>3</td>\n",
       "    </tr>\n",
       "    <tr>\n",
       "      <th>6</th>\n",
       "      <td>Biomedical Signal And System Sessional</td>\n",
       "      <td>BME226</td>\n",
       "      <td>12</td>\n",
       "      <td>9</td>\n",
       "      <td>3</td>\n",
       "    </tr>\n",
       "    <tr>\n",
       "      <th>7</th>\n",
       "      <td>Object Oriented Programming Sessional</td>\n",
       "      <td>CSE 224</td>\n",
       "      <td>12</td>\n",
       "      <td>8</td>\n",
       "      <td>4</td>\n",
       "    </tr>\n",
       "  </tbody>\n",
       "</table>\n",
       "</div>"
      ],
      "text/plain": [
       "                             Course Title Course Code Total Class Present  \\\n",
       "0                            Biomaterials      BME221          12       9   \n",
       "1                            Cell Biology      BME223          12       9   \n",
       "2            Biomedical Signal and System      BME225          12       9   \n",
       "3                    Digital Logic Design     EEE 227          12       9   \n",
       "4          Digital Logic Design Sessional      EEE228          12       9   \n",
       "5                   Biomaterial Sessional      BME222          12       9   \n",
       "6  Biomedical Signal And System Sessional      BME226          12       9   \n",
       "7   Object Oriented Programming Sessional     CSE 224          12       8   \n",
       "\n",
       "  Absent  \n",
       "0      3  \n",
       "1      3  \n",
       "2      3  \n",
       "3      3  \n",
       "4      3  \n",
       "5      3  \n",
       "6      3  \n",
       "7      4  "
      ]
     },
     "execution_count": 15,
     "metadata": {},
     "output_type": "execute_result"
    }
   ],
   "source": [
    "attendance"
   ]
  }
 ],
 "metadata": {
  "kernelspec": {
   "display_name": "Python 3",
   "language": "python",
   "name": "python3"
  },
  "language_info": {
   "codemirror_mode": {
    "name": "ipython",
    "version": 3
   },
   "file_extension": ".py",
   "mimetype": "text/x-python",
   "name": "python",
   "nbconvert_exporter": "python",
   "pygments_lexer": "ipython3",
   "version": "3.7.6"
  }
 },
 "nbformat": 4,
 "nbformat_minor": 4
}
