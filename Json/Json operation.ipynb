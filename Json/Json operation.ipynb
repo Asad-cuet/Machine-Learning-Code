{
 "cells": [
  {
   "cell_type": "markdown",
   "metadata": {},
   "source": [
    "# Json Operation"
   ]
  },
  {
   "cell_type": "code",
   "execution_count": 73,
   "metadata": {},
   "outputs": [],
   "source": [
    "# create\n",
    "def createJson(file_name,key):\n",
    "    f = open(file_name+\".json\", \"w\")\n",
    "    f.close()\n",
    "    # Define data\n",
    "    data = {\n",
    "        key: [],\n",
    "        }\n",
    "\n",
    "    # Write JSON file\n",
    "    with io.open(file_name+'.json', 'w', encoding='utf8') as outfile:\n",
    "        str_ = json.dumps(data,\n",
    "                      indent=4, sort_keys=True,\n",
    "                      separators=(',', ': '), ensure_ascii=False)\n",
    "        outfile.write(to_unicode(str_))\n",
    "\n",
    "\n"
   ]
  },
  {
   "cell_type": "code",
   "execution_count": 70,
   "metadata": {},
   "outputs": [
    {
     "data": {
      "text/plain": [
       "[]"
      ]
     },
     "execution_count": 70,
     "metadata": {},
     "output_type": "execute_result"
    }
   ],
   "source": [
    "#get\n",
    "def getJson(file_name,key):\n",
    "  \n",
    "    import json\n",
    "\n",
    "    file_name = file_name+'.json'\n",
    "\n",
    "    with open(file_name, 'r', encoding='utf-8') as f:\n",
    "        my_data = json.load(f)\n",
    "\n",
    "        return my_data[key]  #{'name': 'Alice', 'age': 30}\n",
    "\n"
   ]
  },
  {
   "cell_type": "code",
   "execution_count": 71,
   "metadata": {},
   "outputs": [],
   "source": [
    "def addJson(filename,key,new_data_dict):\n",
    "    import json\n",
    "    filename=filename+'.json'\n",
    "    with open(filename,'r+') as file:\n",
    "        # First we load existing data into a dict.\n",
    "        file_data = json.load(file)\n",
    "        # Join new_data with file_data inside emp_details\n",
    "        file_data[key].append(new_data_dict)\n",
    "        # Sets file's current position at offset.\n",
    "        file.seek(0)\n",
    "        # convert back to json.\n",
    "        json.dump(file_data, file, indent = 4)\n",
    " \n",
    "    # python object to be appended\n",
    "new_data = {\"name\":\"Nikhil\",\n",
    "     \"age\": \"nikhil@geeksforgeeks.org\"\n",
    "    }"
   ]
  },
  {
   "cell_type": "code",
   "execution_count": 182,
   "metadata": {},
   "outputs": [],
   "source": [
    "# Search\n",
    "# if found return index number\n",
    "# if not found return False\n",
    "def searchValue(file_name,key,val):\n",
    "    import re\n",
    "    with open(file_name+\".json\", \"r+\") as jsonFile:\n",
    "        data = json.load(jsonFile)\n",
    "    arr_of_dict = data[key] \n",
    "    cnt=0\n",
    "    for dict_item in arr_of_dict:\n",
    "        for item in dict_item:\n",
    "            result = re.search(val.lower(), dict_item[item].lower())\n",
    "            if(result):\n",
    "                return cnt\n",
    "            cnt=cnt+1\n",
    "        return False"
   ]
  },
  {
   "cell_type": "code",
   "execution_count": null,
   "metadata": {},
   "outputs": [],
   "source": [
    "def getSingleJson(file_name,key,index):\n",
    "    with open(file_name+\".json\", \"r+\") as jsonFile:\n",
    "        data = json.load(jsonFile)\n",
    "    arr_of_dict = data[key] \n",
    "    return arr_of_dict[index]"
   ]
  },
  {
   "cell_type": "code",
   "execution_count": null,
   "metadata": {},
   "outputs": [],
   "source": [
    "# update entire dictionary of json data\n",
    "def updateJsonFile(file_name,key,index,new_dict_data):   \n",
    "    with open(file_name+\".json\", \"r+\") as jsonFile:\n",
    "        data = json.load(jsonFile)\n",
    "        #updating\n",
    "        data[key][index]=new_dict_data\n",
    "        print(data)\n",
    "        # Saving data in file\n",
    "        with io.open(file_name+'.json', 'w', encoding='utf8') as outfile:\n",
    "            str_ = json.dumps(data,indent=4,separators=(',', ': '), ensure_ascii=False)\n",
    "            outfile.write(to_unicode(str_))\n",
    "        jsonFile.close()"
   ]
  },
  {
   "cell_type": "code",
   "execution_count": 194,
   "metadata": {},
   "outputs": [],
   "source": [
    "# update a specific value of json data\n",
    "def updateJsonValue(file_name,key,index,dict_key,new_value):   \n",
    "    with open(file_name+\".json\", \"r+\") as jsonFile:\n",
    "        data = json.load(jsonFile)\n",
    "        #updating\n",
    "        data[key][index][dict_key]=new_value\n",
    "        print(data)\n",
    "        # Saving data in file\n",
    "        with io.open(file_name+'.json', 'w', encoding='utf8') as outfile:\n",
    "            str_ = json.dumps(data,indent=4,separators=(',', ': '), ensure_ascii=False)\n",
    "            outfile.write(to_unicode(str_))\n",
    "        jsonFile.close()"
   ]
  },
  {
   "cell_type": "markdown",
   "metadata": {},
   "source": [
    "# Create Book Store"
   ]
  },
  {
   "cell_type": "code",
   "execution_count": 133,
   "metadata": {},
   "outputs": [],
   "source": [
    "createJson('book_store','book')"
   ]
  },
  {
   "cell_type": "code",
   "execution_count": 134,
   "metadata": {},
   "outputs": [
    {
     "data": {
      "text/plain": [
       "[]"
      ]
     },
     "execution_count": 134,
     "metadata": {},
     "output_type": "execute_result"
    }
   ],
   "source": [
    "getJson('book_store','book')"
   ]
  },
  {
   "cell_type": "markdown",
   "metadata": {},
   "source": [
    "# Assign Book"
   ]
  },
  {
   "cell_type": "code",
   "execution_count": 135,
   "metadata": {},
   "outputs": [],
   "source": [
    "new_data={\n",
    "            'name' : 'John Doe',\n",
    "            'department' : 'Marketing',\n",
    "            'place' : 'Remote'\n",
    "        }\n",
    "addJson('book_store','book',new_data)"
   ]
  },
  {
   "cell_type": "code",
   "execution_count": 136,
   "metadata": {},
   "outputs": [
    {
     "data": {
      "text/plain": [
       "[{'name': 'John Doe', 'department': 'Marketing', 'place': 'Remote'}]"
      ]
     },
     "execution_count": 136,
     "metadata": {},
     "output_type": "execute_result"
    }
   ],
   "source": [
    "getJson('book_store','book')"
   ]
  },
  {
   "cell_type": "markdown",
   "metadata": {},
   "source": [
    "# Update Book"
   ]
  },
  {
   "cell_type": "code",
   "execution_count": 174,
   "metadata": {},
   "outputs": [],
   "source": [
    "\n"
   ]
  },
  {
   "cell_type": "code",
   "execution_count": 193,
   "metadata": {},
   "outputs": [
    {
     "name": "stdout",
     "output_type": "stream",
     "text": [
      "{'book': [{'name': 'Asadul', 'department': 'Marketing', 'place': 'Remote'}]}\n"
     ]
    }
   ],
   "source": [
    "\n",
    "        \n",
    "\n",
    "        \n",
    "new_data={\n",
    "            'name' : 'Asad',\n",
    "            'department' : 'Marketing',\n",
    "            'place' : 'Remote'\n",
    "        }\n",
    "updateJsonValue('book_store','book',0,'name','Asadul')"
   ]
  },
  {
   "cell_type": "code",
   "execution_count": 183,
   "metadata": {},
   "outputs": [
    {
     "name": "stdout",
     "output_type": "stream",
     "text": [
      "0\n"
     ]
    }
   ],
   "source": [
    "print(searchValue('book_store','book','oh'))"
   ]
  },
  {
   "cell_type": "markdown",
   "metadata": {},
   "source": [
    "# Get Book"
   ]
  },
  {
   "cell_type": "code",
   "execution_count": 185,
   "metadata": {},
   "outputs": [],
   "source": []
  },
  {
   "cell_type": "code",
   "execution_count": 186,
   "metadata": {},
   "outputs": [
    {
     "data": {
      "text/plain": [
       "{'name': 'John Doe', 'department': 'Marketing', 'place': 'Remote'}"
      ]
     },
     "execution_count": 186,
     "metadata": {},
     "output_type": "execute_result"
    }
   ],
   "source": [
    "getSingleJson('book_store','book',0)"
   ]
  },
  {
   "cell_type": "markdown",
   "metadata": {},
   "source": [
    "# Student Store"
   ]
  },
  {
   "cell_type": "code",
   "execution_count": null,
   "metadata": {},
   "outputs": [],
   "source": []
  },
  {
   "cell_type": "code",
   "execution_count": null,
   "metadata": {},
   "outputs": [],
   "source": []
  },
  {
   "cell_type": "markdown",
   "metadata": {},
   "source": [
    "# Assign Student"
   ]
  },
  {
   "cell_type": "markdown",
   "metadata": {},
   "source": []
  },
  {
   "cell_type": "markdown",
   "metadata": {},
   "source": [
    "# Search Student"
   ]
  },
  {
   "cell_type": "code",
   "execution_count": null,
   "metadata": {},
   "outputs": [],
   "source": []
  },
  {
   "cell_type": "markdown",
   "metadata": {},
   "source": [
    "# Update Student"
   ]
  },
  {
   "cell_type": "code",
   "execution_count": null,
   "metadata": {},
   "outputs": [],
   "source": []
  },
  {
   "cell_type": "code",
   "execution_count": null,
   "metadata": {},
   "outputs": [],
   "source": []
  },
  {
   "cell_type": "markdown",
   "metadata": {},
   "source": [
    "# Create Student Log"
   ]
  },
  {
   "cell_type": "code",
   "execution_count": null,
   "metadata": {},
   "outputs": [],
   "source": []
  },
  {
   "cell_type": "code",
   "execution_count": null,
   "metadata": {},
   "outputs": [],
   "source": []
  },
  {
   "cell_type": "code",
   "execution_count": null,
   "metadata": {},
   "outputs": [],
   "source": []
  }
 ],
 "metadata": {
  "kernelspec": {
   "display_name": "Python 3",
   "language": "python",
   "name": "python3"
  },
  "language_info": {
   "codemirror_mode": {
    "name": "ipython",
    "version": 3
   },
   "file_extension": ".py",
   "mimetype": "text/x-python",
   "name": "python",
   "nbconvert_exporter": "python",
   "pygments_lexer": "ipython3",
   "version": "3.7.6"
  }
 },
 "nbformat": 4,
 "nbformat_minor": 4
}
