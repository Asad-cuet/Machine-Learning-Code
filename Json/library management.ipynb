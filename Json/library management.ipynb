{
 "cells": [
  {
   "cell_type": "markdown",
   "metadata": {},
   "source": [
    "## Json Operation"
   ]
  },
  {
   "cell_type": "code",
   "execution_count": 4,
   "metadata": {},
   "outputs": [],
   "source": [
    "# create\n",
    "def createJson(file_name,_keys):\n",
    "    import io\n",
    "    import json\n",
    "    f = open(file_name+\".json\", \"w\")\n",
    "    f.close()\n",
    "    # Define data\n",
    "    data={}\n",
    "    for _key in _keys:\n",
    "        data[_key]=[]\n",
    "\n",
    "    # Write JSON file\n",
    "    with io.open(file_name+'.json', 'w', encoding='utf8') as outfile:\n",
    "        str_ = json.dumps(data,\n",
    "                      indent=4, sort_keys=True,\n",
    "                      separators=(',', ': '), ensure_ascii=False)\n",
    "        print(str_)\n",
    "        outfile.write(str_)"
   ]
  },
  {
   "cell_type": "code",
   "execution_count": 5,
   "metadata": {},
   "outputs": [],
   "source": [
    "#get\n",
    "def getJsonKey(file_name,key):\n",
    "  \n",
    "    import json\n",
    "\n",
    "    file_name = file_name+'.json'\n",
    "\n",
    "    with open(file_name, 'r', encoding='utf-8') as f:\n",
    "        my_data = json.load(f)\n",
    "\n",
    "        return my_data[key]  #{'name': 'Alice', 'age': 30}\n",
    "\n"
   ]
  },
  {
   "cell_type": "code",
   "execution_count": 6,
   "metadata": {},
   "outputs": [],
   "source": [
    "def addJson(filename,key,new_data_dict):\n",
    "    import json\n",
    "    filename=filename+'.json'\n",
    "    with open(filename,'r+') as file:\n",
    "        # First we load existing data into a dict.\n",
    "        file_data = json.load(file)\n",
    "        # Join new_data with file_data inside emp_details\n",
    "        file_data[key].append(new_data_dict)\n",
    "        # Sets file's current position at offset.\n",
    "        file.seek(0)\n",
    "        # convert back to json.\n",
    "        json.dump(file_data, file, indent = 4)\n",
    " "
   ]
  },
  {
   "cell_type": "code",
   "execution_count": 7,
   "metadata": {},
   "outputs": [],
   "source": [
    "# Search\n",
    "# if found return index number\n",
    "# if not found return False\n",
    "def searchValue(file_name,key,val):\n",
    "    import json\n",
    "    import re\n",
    "    with open(file_name+\".json\", \"r+\") as jsonFile:\n",
    "        data = json.load(jsonFile)\n",
    "    arr_of_dict = data[key] \n",
    "    cnt=0\n",
    "    for dict_item in arr_of_dict:\n",
    "        for item in dict_item:\n",
    "            result = re.search(str(val).lower(), str(dict_item[item]).lower())\n",
    "            if(result):\n",
    "                return cnt\n",
    "        cnt=cnt+1\n",
    "    return 'False'\n",
    "\n",
    "# return muliple index\n",
    "def searchValues(file_name,key,val):\n",
    "    import json\n",
    "    import re\n",
    "    index=[]\n",
    "    with open(file_name+\".json\", \"r+\") as jsonFile:\n",
    "        data = json.load(jsonFile)\n",
    "    arr_of_dict = data[key] \n",
    "    cnt=0\n",
    "    for dict_item in arr_of_dict:\n",
    "        for item in dict_item:\n",
    "            result = re.search(str(val).lower(), str(dict_item[item]).lower())\n",
    "            if(result):\n",
    "                index.append(cnt)\n",
    "        cnt=cnt+1\n",
    "    if(len(index)):\n",
    "        return index\n",
    "    else:\n",
    "        return 'False'"
   ]
  },
  {
   "cell_type": "code",
   "execution_count": 8,
   "metadata": {},
   "outputs": [],
   "source": [
    "def getSingleDict(file_name,key,index):\n",
    "    import json\n",
    "    with open(file_name+\".json\", \"r+\") as jsonFile:\n",
    "        data = json.load(jsonFile)\n",
    "    arr_of_dict = data[key][index]\n",
    "    arr_of_dict['index']=index\n",
    "    return arr_of_dict\n",
    "\n",
    "def getMultipleDict(file_name,key,indexs):\n",
    "    import json\n",
    "    with open(file_name+\".json\", \"r+\") as jsonFile:\n",
    "        data = json.load(jsonFile)\n",
    "    multiple_dict=[]\n",
    "    for index in indexs:\n",
    "        arr_of_dict = data[key][index]\n",
    "        arr_of_dict['index']=index\n",
    "        multiple_dict.append(arr_of_dict)\n",
    "    return multiple_dict"
   ]
  },
  {
   "cell_type": "code",
   "execution_count": 9,
   "metadata": {},
   "outputs": [],
   "source": [
    "# update a specific dictionary of json data\n",
    "def updateJsonDict(file_name,key,index,new_dict_data):  \n",
    "    import json\n",
    "    import io\n",
    "    with open(file_name+\".json\", \"r+\") as jsonFile:\n",
    "        data = json.load(jsonFile)\n",
    "        #updating\n",
    "        data[key][index]=new_dict_data\n",
    "        print(data)\n",
    "        # Saving data in file\n",
    "        with io.open(file_name+'.json', 'w', encoding='utf8') as outfile:\n",
    "            str_ = json.dumps(data,indent=4,separators=(',', ': '), ensure_ascii=False)\n",
    "            outfile.write(str_)\n",
    "        jsonFile.close()"
   ]
  },
  {
   "cell_type": "code",
   "execution_count": 10,
   "metadata": {},
   "outputs": [],
   "source": [
    "# update a specific value of json data\n",
    "def updateJsonValue(file_name,key,index,dict_key,new_value):  \n",
    "    import json\n",
    "    import io\n",
    "    with open(file_name+\".json\", \"r+\") as jsonFile:\n",
    "        data = json.load(jsonFile)\n",
    "        #updating\n",
    "        data[key][index][dict_key]=new_value\n",
    "        # Saving data in file\n",
    "        with io.open(file_name+'.json', 'w', encoding='utf8') as outfile:\n",
    "            str_ = json.dumps(data,indent=4,separators=(',', ': '), ensure_ascii=False)\n",
    "            outfile.write(str_)\n",
    "        jsonFile.close()"
   ]
  },
  {
   "cell_type": "markdown",
   "metadata": {},
   "source": [
    "## Initialize Storage"
   ]
  },
  {
   "cell_type": "code",
   "execution_count": 11,
   "metadata": {},
   "outputs": [
    {
     "name": "stdout",
     "output_type": "stream",
     "text": [
      "{\n",
      "    \"book\": [],\n",
      "    \"student\": [],\n",
      "    \"student_log\": []\n",
      "}\n"
     ]
    }
   ],
   "source": [
    "createJson('storage',['book','student','student_log'])"
   ]
  },
  {
   "cell_type": "code",
   "execution_count": 12,
   "metadata": {},
   "outputs": [],
   "source": [
    "#initializing student\n",
    "student={\n",
    "    'id':1911025,\n",
    "    'name':'A',\n",
    "    'department':'BME',\n",
    "}\n",
    "addJson('storage','student',student)\n",
    "student={\n",
    "    'id':1911026,\n",
    "    'name':'B',\n",
    "    'department':'BME',\n",
    "}\n",
    "addJson('storage','student',student)\n",
    "student={\n",
    "    'id':1911027,\n",
    "    'name':'C',\n",
    "    'department':'BME',\n",
    "}\n",
    "addJson('storage','student',student)\n",
    "addJson('storage','student',student)"
   ]
  },
  {
   "cell_type": "code",
   "execution_count": 13,
   "metadata": {},
   "outputs": [
    {
     "data": {
      "text/plain": [
       "[{'id': 1911025, 'name': 'A', 'department': 'BME'},\n",
       " {'id': 1911026, 'name': 'B', 'department': 'BME'},\n",
       " {'id': 1911027, 'name': 'C', 'department': 'BME'},\n",
       " {'id': 1911027, 'name': 'C', 'department': 'BME'}]"
      ]
     },
     "execution_count": 13,
     "metadata": {},
     "output_type": "execute_result"
    }
   ],
   "source": [
    "getJsonKey('storage','student')"
   ]
  },
  {
   "cell_type": "code",
   "execution_count": 14,
   "metadata": {},
   "outputs": [],
   "source": [
    "# initializing book\n",
    "book_data={\n",
    "    'name':'Introduction to Biomedical Engineering',\n",
    "    'author':'X',\n",
    "    'quantity':10\n",
    "}\n",
    "addJson('storage','book',book_data)\n",
    "\n",
    "book_data={\n",
    "    'name':'Think Python',\n",
    "    'author':'Y',\n",
    "    'quantity':12\n",
    "}\n",
    "addJson('storage','book',book_data)\n",
    "\n",
    "book_data={\n",
    "    'name':'Introductory to Circuit Analysis',\n",
    "    'author':'Z',\n",
    "    'quantity':15\n",
    "}\n",
    "addJson('storage','book',book_data)"
   ]
  },
  {
   "cell_type": "code",
   "execution_count": 15,
   "metadata": {},
   "outputs": [
    {
     "data": {
      "text/plain": [
       "[{'name': 'Introduction to Biomedical Engineering',\n",
       "  'author': 'X',\n",
       "  'quantity': 10},\n",
       " {'name': 'Think Python', 'author': 'Y', 'quantity': 12},\n",
       " {'name': 'Introductory to Circuit Analysis', 'author': 'Z', 'quantity': 15}]"
      ]
     },
     "execution_count": 15,
     "metadata": {},
     "output_type": "execute_result"
    }
   ],
   "source": [
    "getJsonKey('storage','book')"
   ]
  },
  {
   "cell_type": "markdown",
   "metadata": {},
   "source": [
    "## Book List"
   ]
  },
  {
   "cell_type": "code",
   "execution_count": 16,
   "metadata": {},
   "outputs": [
    {
     "data": {
      "text/plain": [
       "[{'name': 'Introduction to Biomedical Engineering',\n",
       "  'author': 'X',\n",
       "  'quantity': 10},\n",
       " {'name': 'Think Python', 'author': 'Y', 'quantity': 12},\n",
       " {'name': 'Introductory to Circuit Analysis', 'author': 'Z', 'quantity': 15}]"
      ]
     },
     "execution_count": 16,
     "metadata": {},
     "output_type": "execute_result"
    }
   ],
   "source": [
    "getJsonKey('storage','book')"
   ]
  },
  {
   "cell_type": "markdown",
   "metadata": {},
   "source": [
    "## Search Book"
   ]
  },
  {
   "cell_type": "code",
   "execution_count": null,
   "metadata": {},
   "outputs": [],
   "source": [
    "val=input('Enter Name/Author=')\n",
    "response=searchValue('storage','book',val)\n",
    "if(response!='False'):\n",
    "    print(getSingleDict('storage','book',response))\n",
    "else:\n",
    "    print(\"Not Found\")"
   ]
  },
  {
   "cell_type": "markdown",
   "metadata": {},
   "source": [
    "## Update Book"
   ]
  },
  {
   "cell_type": "code",
   "execution_count": null,
   "metadata": {},
   "outputs": [],
   "source": [
    "val=input('Enter Name/Author=')\n",
    "response=searchValues('storage','book',val)\n",
    "if(response!='False'):\n",
    "    m_res=getMultipleDict('storage','book',response)\n",
    "    for x in m_res:\n",
    "        print(x)\n",
    "    index=int(input(\"Which index you want to update=\"))\n",
    "    dict_key=input(\"Which key you want to update=\")\n",
    "    new_value=input(\"Enter new value=\")\n",
    "    updateJsonValue('storage','book',index,dict_key,new_value)\n",
    "else:\n",
    "    print(\"Not Found\")\n"
   ]
  },
  {
   "cell_type": "markdown",
   "metadata": {},
   "source": [
    "### Assign Book"
   ]
  },
  {
   "cell_type": "code",
   "execution_count": null,
   "metadata": {},
   "outputs": [],
   "source": [
    "name=input(\"Enter Name=\")\n",
    "author=input(\"Enter Author=\")\n",
    "quantity=int(input(\"Enter Quantity=\"))\n",
    "new_data={\n",
    "            'name' : name,\n",
    "            'author' : author,\n",
    "            'quantity' : quantity\n",
    "        }\n",
    "addJson('storage','book',new_data)"
   ]
  },
  {
   "cell_type": "markdown",
   "metadata": {},
   "source": [
    "## Student List"
   ]
  },
  {
   "cell_type": "code",
   "execution_count": 17,
   "metadata": {},
   "outputs": [
    {
     "data": {
      "text/plain": [
       "[{'id': 1911025, 'name': 'A', 'department': 'BME'},\n",
       " {'id': 1911026, 'name': 'B', 'department': 'BME'},\n",
       " {'id': 1911027, 'name': 'C', 'department': 'BME'},\n",
       " {'id': 1911027, 'name': 'C', 'department': 'BME'}]"
      ]
     },
     "execution_count": 17,
     "metadata": {},
     "output_type": "execute_result"
    }
   ],
   "source": [
    "getJsonKey('storage','student')"
   ]
  },
  {
   "cell_type": "markdown",
   "metadata": {},
   "source": [
    "## Search Student"
   ]
  },
  {
   "cell_type": "code",
   "execution_count": null,
   "metadata": {},
   "outputs": [],
   "source": [
    "val=input('Enter Id/Name=')\n",
    "response=searchValue('storage','student',val)\n",
    "if(response!='False'):\n",
    "    print(getSingleDict('storage','student',response))\n",
    "else:\n",
    "    print(\"Not Found\")"
   ]
  },
  {
   "cell_type": "markdown",
   "metadata": {},
   "source": [
    "## Update Student"
   ]
  },
  {
   "cell_type": "code",
   "execution_count": 15,
   "metadata": {},
   "outputs": [
    {
     "name": "stdout",
     "output_type": "stream",
     "text": [
      "Enter Id/Name=19\n",
      "{'id': 1911025, 'name': 'A', 'department': 'BME', 'index': 0}\n",
      "{'id': 1911026, 'name': 'B', 'department': 'BME', 'index': 1}\n",
      "{'id': 1911027, 'name': 'C', 'department': 'BME', 'index': 2}\n",
      "{'id': 1911027, 'name': 'C', 'department': 'BME', 'index': 3}\n",
      "Which index you want to update=3\n",
      "Which key you want to update=name\n",
      "Enter new value=asad\n"
     ]
    }
   ],
   "source": [
    "val=input('Enter Id/Name=')\n",
    "response=searchValues('storage','student',val)\n",
    "if(response!='False'):\n",
    "    m_res=getMultipleDict('storage','student',response)\n",
    "    for x in m_res:\n",
    "        print(x)\n",
    "    index=int(input(\"Which index you want to update=\"))\n",
    "    dict_key=input(\"Which key you want to update=\")\n",
    "    new_value=input(\"Enter new value=\")\n",
    "    updateJsonValue('storage','student',index,dict_key,new_value)\n",
    "else:\n",
    "    print(\"Not Found\")\n",
    "\n"
   ]
  },
  {
   "cell_type": "markdown",
   "metadata": {},
   "source": [
    "## Assign Student"
   ]
  },
  {
   "cell_type": "code",
   "execution_count": null,
   "metadata": {},
   "outputs": [],
   "source": [
    "_id=int(input(\"Enter Id=\"))\n",
    "name=input(\"Enter Name=\")\n",
    "department=input(\"Enter Department=\")\n",
    "new_data={\n",
    "            'id' : _id,\n",
    "            'name' : name,\n",
    "            'department':department\n",
    "        }\n",
    "addJson('storage','student',new_data)"
   ]
  },
  {
   "cell_type": "markdown",
   "metadata": {},
   "source": [
    "## Student Log List"
   ]
  },
  {
   "cell_type": "code",
   "execution_count": 23,
   "metadata": {},
   "outputs": [
    {
     "data": {
      "text/plain": [
       "[{'id': 1911022,\n",
       "  'book_name': 'Introductory to Circuit Analysis',\n",
       "  'is_returned': 'yes'}]"
      ]
     },
     "execution_count": 23,
     "metadata": {},
     "output_type": "execute_result"
    }
   ],
   "source": [
    "getJsonKey('storage','student_log')"
   ]
  },
  {
   "cell_type": "markdown",
   "metadata": {},
   "source": [
    "## Assign Log"
   ]
  },
  {
   "cell_type": "code",
   "execution_count": 20,
   "metadata": {},
   "outputs": [
    {
     "name": "stdout",
     "output_type": "stream",
     "text": [
      "Enter Id=1911022\n",
      "Enter Book Name=intro\n",
      "{'name': 'Introduction to Biomedical Engineering', 'author': 'X', 'quantity': 10, 'index': 0}\n",
      "{'name': 'Introductory to Circuit Analysis', 'author': 'Z', 'quantity': 15, 'index': 2}\n",
      "Which index you want to assign=2\n"
     ]
    }
   ],
   "source": [
    "_id=int(input(\"Enter Id=\"))\n",
    "book_name=input(\"Enter Book Name=\")\n",
    "\n",
    "#finding entered book\n",
    "response=searchValues('storage','book',book_name)\n",
    "if(response!='False'):\n",
    "    m_res=getMultipleDict('storage','book',response)\n",
    "    for x in m_res:\n",
    "        print(x)\n",
    "    index=int(input(\"Which index you want to assign=\"))\n",
    "    book_name=getSingleDict('storage','book',index)['name']\n",
    "else:\n",
    "    print(book_name,\"doesn't exist\")\n",
    "    exit()\n",
    "\n",
    "\n",
    "is_returned='no'\n",
    "new_data={\n",
    "            'id' : _id,\n",
    "            'book_name' : book_name,\n",
    "            'is_returned':is_returned\n",
    "        }\n",
    "addJson('storage','student_log',new_data)\n",
    "\n",
    "#reducing quantity\n",
    "response=searchValue('storage','book',book_name)\n",
    "if(response!='False'):\n",
    "    old_quantity=getSingleDict('storage','book',response)['quantity']\n",
    "    dict_key='quantity'\n",
    "    new_value=old_quantity-1\n",
    "    updateJsonValue('storage','book',response,dict_key,new_value)\n",
    "else:\n",
    "    print(book_name,\" doesn't exist\")"
   ]
  },
  {
   "cell_type": "markdown",
   "metadata": {},
   "source": [
    "## Update Log"
   ]
  },
  {
   "cell_type": "code",
   "execution_count": 22,
   "metadata": {},
   "outputs": [
    {
     "name": "stdout",
     "output_type": "stream",
     "text": [
      "Enter Id=19\n",
      "{'id': 1911022, 'book_name': 'Introductory to Circuit Analysis', 'is_returned': 'no', 'index': 0}\n",
      "Which index you want to update=0\n",
      "Which key you want to update=is_returned\n",
      "Enter new value=yes\n"
     ]
    }
   ],
   "source": [
    "val=input('Enter Id=')\n",
    "response=searchValues('storage','student_log',val)\n",
    "if(response!='False'):\n",
    "    m_res=getMultipleDict('storage','student_log',response)\n",
    "    for x in m_res:\n",
    "        print(x)\n",
    "    index=int(input(\"Which index you want to update=\"))\n",
    "    dict_key=input(\"Which key you want to update=\")\n",
    "    new_value=input(\"Enter new value=\")\n",
    "    updateJsonValue('storage','student_log',index,dict_key,new_value)\n",
    "else:\n",
    "    print(\"Not Found\")\n",
    "\n"
   ]
  },
  {
   "cell_type": "code",
   "execution_count": null,
   "metadata": {},
   "outputs": [],
   "source": []
  }
 ],
 "metadata": {
  "kernelspec": {
   "display_name": "Python 3",
   "language": "python",
   "name": "python3"
  },
  "language_info": {
   "codemirror_mode": {
    "name": "ipython",
    "version": 3
   },
   "file_extension": ".py",
   "mimetype": "text/x-python",
   "name": "python",
   "nbconvert_exporter": "python",
   "pygments_lexer": "ipython3",
   "version": "3.7.6"
  }
 },
 "nbformat": 4,
 "nbformat_minor": 4
}
